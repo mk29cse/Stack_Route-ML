{
 "cells": [
  {
   "cell_type": "code",
   "execution_count": null,
   "metadata": {
    "collapsed": true
   },
   "outputs": [],
   "source": []
  },
  {
   "cell_type": "code",
   "execution_count": 165,
   "metadata": {
    "collapsed": false
   },
   "outputs": [],
   "source": [
    "import pandas as pd\n",
    "import numpy as np\n",
    "import seaborn as sns\n",
    "import matplotlib.pyplot as plt\n",
    "from sklearn import linear_model"
   ]
  },
  {
   "cell_type": "code",
   "execution_count": 166,
   "metadata": {
    "collapsed": false
   },
   "outputs": [],
   "source": [
    "df = pd.read_csv('Kepler_Regression.csv')\n",
    "df_corr = df.corr()"
   ]
  },
  {
   "cell_type": "code",
   "execution_count": 167,
   "metadata": {
    "collapsed": false
   },
   "outputs": [
    {
     "data": {
      "image/png": "[encoded data removed]",
      "text/plain": [
       "<matplotlib.figure.Figure at 0x7f7b181e4320>"
      ]
     },
     "metadata": {},
     "output_type": "display_data"
    }
   ],
   "source": [
    "sns.heatmap(df_corr, xticklabels=df_corr.index.values, yticklabels=df_corr.columns.values)\n",
    "plt.show()"
   ]
  },
  {
   "cell_type": "code",
   "execution_count": 143,
   "metadata": {
    "collapsed": false
   },
   "outputs": [
    {
     "data": {
      "text/html": [
       "<div>\n",
       "<table border=\"1\" class=\"dataframe\">\n",
       "  <thead>\n",
       "    <tr style=\"text-align: right;\">\n",
       "      <th></th>\n",
       "      <th>SemiMajorAxis</th>\n",
       "      <th>Volume</th>\n",
       "      <th>EscapeVelocity</th>\n",
       "      <th>Density</th>\n",
       "      <th>planet</th>\n",
       "      <th>OrbitalPeriod</th>\n",
       "    </tr>\n",
       "  </thead>\n",
       "  <tbody>\n",
       "    <tr>\n",
       "      <th>0</th>\n",
       "      <td>0.662104</td>\n",
       "      <td>10.236030</td>\n",
       "      <td>10.892849</td>\n",
       "      <td>6.072644</td>\n",
       "      <td>Venus</td>\n",
       "      <td>0.448359</td>\n",
       "    </tr>\n",
       "    <tr>\n",
       "      <th>1</th>\n",
       "      <td>11.721498</td>\n",
       "      <td>8.132345</td>\n",
       "      <td>34.080931</td>\n",
       "      <td>0.758931</td>\n",
       "      <td>Saturn</td>\n",
       "      <td>40.447949</td>\n",
       "    </tr>\n",
       "    <tr>\n",
       "      <th>2</th>\n",
       "      <td>4.903094</td>\n",
       "      <td>1.538470</td>\n",
       "      <td>58.493158</td>\n",
       "      <td>1.281688</td>\n",
       "      <td>Jupiter</td>\n",
       "      <td>10.063035</td>\n",
       "    </tr>\n",
       "    <tr>\n",
       "      <th>3</th>\n",
       "      <td>0.817968</td>\n",
       "      <td>8.532505</td>\n",
       "      <td>10.034185</td>\n",
       "      <td>6.129132</td>\n",
       "      <td>Venus</td>\n",
       "      <td>0.551544</td>\n",
       "    </tr>\n",
       "    <tr>\n",
       "      <th>4</th>\n",
       "      <td>27.016293</td>\n",
       "      <td>7.106079</td>\n",
       "      <td>25.796580</td>\n",
       "      <td>2.108022</td>\n",
       "      <td>Neptune</td>\n",
       "      <td>225.690334</td>\n",
       "    </tr>\n",
       "  </tbody>\n",
       "</table>\n",
       "</div>"
      ],
      "text/plain": [
       "   SemiMajorAxis     Volume  EscapeVelocity   Density   planet  OrbitalPeriod\n",
       "0       0.662104  10.236030       10.892849  6.072644    Venus       0.448359\n",
       "1      11.721498   8.132345       34.080931  0.758931   Saturn      40.447949\n",
       "2       4.903094   1.538470       58.493158  1.281688  Jupiter      10.063035\n",
       "3       0.817968   8.532505       10.034185  6.129132    Venus       0.551544\n",
       "4      27.016293   7.106079       25.796580  2.108022  Neptune     225.690334"
      ]
     },
     "execution_count": 143,
     "metadata": {},
     "output_type": "execute_result"
    }
   ],
   "source": [
    "df.head()"
   ]
  },
  {
   "cell_type": "code",
   "execution_count": 168,
   "metadata": {
    "collapsed": false
   },
   "outputs": [],
   "source": [
    "#2 features\n",
    "X = df.loc[:,['SemiMajorAxis','Density']]\n",
    "Y = df.loc[:,['OrbitalPeriod']]\n",
    "\n",
    "\n",
    "X_train = X.iloc[0:-20,:].values.tolist()\n",
    "Y_train = Y.iloc[0:-20,:].values.tolist()\n",
    "X_test = X.iloc[-20:,:].values.tolist()\n",
    "Y_test = Y.iloc[-20:,:].values.tolist()\n",
    "# all features\n",
    "X1 = df.iloc[:,:-2]\n",
    "Y1 = df.loc[:,['OrbitalPeriod']]\n",
    "X1_train = X1.iloc[0:-20,:].values.tolist()\n",
    "Y1_train = Y1.iloc[0:-20,:].values.tolist()\n",
    "X1_test = X1.iloc[-20:,:].values.tolist()\n",
    "Y1_test = Y1.iloc[-20:,:].values.tolist()"
   ]
  },
  {
   "cell_type": "code",
   "execution_count": 169,
   "metadata": {
    "collapsed": true
   },
   "outputs": [],
   "source": [
    "regr = linear_model.LinearRegression()\n",
    "regr1 = linear_model.LinearRegression()"
   ]
  },
  {
   "cell_type": "code",
   "execution_count": 170,
   "metadata": {
    "collapsed": false
   },
   "outputs": [
    {
     "data": {
      "text/plain": [
       "LinearRegression(copy_X=True, fit_intercept=True, n_jobs=1, normalize=False)"
      ]
     },
     "execution_count": 170,
     "metadata": {},
     "output_type": "execute_result"
    }
   ],
   "source": [
    "regr.fit(X_train, Y_train)\n",
    "regr1.fit(X1_train, Y1_train)"
   ]
  },
  {
   "cell_type": "code",
   "execution_count": 171,
   "metadata": {
    "collapsed": false
   },
   "outputs": [
    {
     "name": "stdout",
     "output_type": "stream",
     "text": [
      "Coefficients: \n",
      " [[ 6.5742417   5.68985661]]\n",
      "Coefficients: \n",
      " [[ 6.67058094 -0.62376088  0.06286835  6.23827019]]\n"
     ]
    }
   ],
   "source": [
    "print('Coefficients: \\n', regr.coef_)\n",
    "print('Coefficients: \\n', regr1.coef_)"
   ]
  },
  {
   "cell_type": "code",
   "execution_count": 172,
   "metadata": {
    "collapsed": false
   },
   "outputs": [
    {
     "name": "stdout",
     "output_type": "stream",
     "text": [
      "Mean squared error with 2 features: 687.99\n"
     ]
    }
   ],
   "source": [
    "# The mean squared error\n",
    "print(\"Mean squared error with 2 features: %.2f\"\n",
    "      % (np.mean((regr.predict(X_test) - Y_test) ** 2)))"
   ]
  },
  {
   "cell_type": "code",
   "execution_count": 173,
   "metadata": {
    "collapsed": false
   },
   "outputs": [
    {
     "name": "stdout",
     "output_type": "stream",
     "text": [
      "Mean squared error with all features: 669.03\n"
     ]
    }
   ],
   "source": [
    "print(\"Mean squared error with all features: %.2f\"\n",
    "      % (np.mean((regr1.predict(X1_test) - Y1_test) ** 2)))"
   ]
  },
  {
   "cell_type": "code",
   "execution_count": 174,
   "metadata": {
    "collapsed": false
   },
   "outputs": [
    {
     "name": "stdout",
     "output_type": "stream",
     "text": [
      "Variance score: 0.87\n"
     ]
    }
   ],
   "source": [
    "# Explained variance score: 1 is perfect prediction\n",
    "print('Variance score: %.2f' % regr.score(X_test, Y_test))"
   ]
  },
  {
   "cell_type": "code",
   "execution_count": 175,
   "metadata": {
    "collapsed": false
   },
   "outputs": [
    {
     "name": "stdout",
     "output_type": "stream",
     "text": [
      "Variance score: 0.87\n"
     ]
    }
   ],
   "source": [
    "# Explained variance score: 1 is perfect prediction\n",
    "print('Variance score: %.2f' % regr1.score(X1_test, Y1_test))\n"
   ]
  },
  {
   "cell_type": "code",
   "execution_count": 176,
   "metadata": {
    "collapsed": false
   },
   "outputs": [
    {
     "data": {
      "text/plain": [
       "list"
      ]
     },
     "execution_count": 176,
     "metadata": {},
     "output_type": "execute_result"
    }
   ],
   "source": [
    "type(Y1_test)"
   ]
  },
  {
   "cell_type": "code",
   "execution_count": 177,
   "metadata": {
    "collapsed": false
   },
   "outputs": [
    {
     "data": {
      "image/png": "[encoded data removed]",
      "text/plain": [
       "<matplotlib.figure.Figure at 0x7f7b181dfc88>"
      ]
     },
     "metadata": {},
     "output_type": "display_data"
    }
   ],
   "source": [
    "#plt.scatter(Y1_test,regr1.predict(X1_test),color='green')\n",
    "plt.plot(Y1_test,regr1.predict(X1_test),color='blue')\n",
    "plt.xlabel('Y_original')\n",
    "plt.ylabel('Y_predicted')\n",
    "#plt.xlim(0,200)\n",
    "plt.show()"
   ]
  },
  {
   "cell_type": "markdown",
   "metadata": {},
   "source": []
  },
  {
   "cell_type": "code",
   "execution_count": null,
   "metadata": {
    "collapsed": true
   },
   "outputs": [],
   "source": []
  },
  {
   "cell_type": "code",
   "execution_count": null,
   "metadata": {
    "collapsed": false
   },
   "outputs": [],
   "source": []
  },
  {
   "cell_type": "code",
   "execution_count": null,
   "metadata": {
    "collapsed": true
   },
   "outputs": [],
   "source": [
    "\n"
   ]
  }
 ],
 "metadata": {
  "kernelspec": {
   "display_name": "Python 3",
   "language": "python",
   "name": "python3"
  },
  "language_info": {
   "codemirror_mode": {
    "name": "ipython",
    "version": 3
   },
   "file_extension": ".py",
   "mimetype": "text/x-python",
   "name": "python",
   "nbconvert_exporter": "python",
   "pygments_lexer": "ipython3",
   "version": "3.5.2"
  }
 },
 "nbformat": 4,
 "nbformat_minor": 2
}
